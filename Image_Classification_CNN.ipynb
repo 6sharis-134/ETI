{
 "cells": [
  {
   "cell_type": "markdown",
   "id": "799364a2",
   "metadata": {},
   "source": [
    "# 🖼️ Image Classification using CNN\n",
    "### Internship Task 3 - Machine Learning (EliteTech)\n",
    "\n",
    "This notebook performs image classification on the **Fashion MNIST** dataset using a Convolutional Neural Network (CNN). It includes:\n",
    "- Data Loading and Preprocessing\n",
    "- CNN Architecture Design\n",
    "- Training and Evaluation\n",
    "- Visualization of Results\n",
    "- Interactive Prediction\n",
    "- Scope for Improvement"
   ]
  },
  {
   "cell_type": "code",
   "execution_count": null,
   "id": "5b8ca1bf",
   "metadata": {},
   "outputs": [],
   "source": [
    "import numpy as np\n",
    "import matplotlib.pyplot as plt\n",
    "import seaborn as sns\n",
    "\n",
    "import tensorflow as tf\n",
    "from tensorflow.keras.datasets import fashion_mnist\n",
    "from tensorflow.keras.models import Sequential\n",
    "from tensorflow.keras.layers import Conv2D, MaxPooling2D, Flatten, Dense, Dropout\n",
    "from tensorflow.keras.utils import to_categorical\n",
    "\n",
    "from sklearn.metrics import confusion_matrix, classification_report\n",
    "from ipywidgets import interact, widgets\n",
    "\n",
    "import warnings\n",
    "warnings.filterwarnings('ignore')\n"
   ]
  },
  {
   "cell_type": "code",
   "execution_count": null,
   "id": "787291f7",
   "metadata": {},
   "outputs": [],
   "source": [
    "# Load Fashion MNIST dataset\n",
    "(X_train, y_train), (X_test, y_test) = fashion_mnist.load_data()\n",
    "\n",
    "# Normalize and reshape\n",
    "X_train = X_train / 255.0\n",
    "X_test = X_test / 255.0\n",
    "X_train = X_train.reshape(-1, 28, 28, 1)\n",
    "X_test = X_test.reshape(-1, 28, 28, 1)\n",
    "\n",
    "# One-hot encode labels\n",
    "y_train_cat = to_categorical(y_train)\n",
    "y_test_cat = to_categorical(y_test)\n",
    "\n",
    "class_names = ['T-shirt/top', 'Trouser', 'Pullover', 'Dress', 'Coat', \n",
    "               'Sandal', 'Shirt', 'Sneaker', 'Bag', 'Ankle boot']\n"
   ]
  },
  {
   "cell_type": "code",
   "execution_count": null,
   "id": "09532ab4",
   "metadata": {},
   "outputs": [],
   "source": [
    "plt.figure(figsize=(10, 4))\n",
    "for i in range(10):\n",
    "    plt.subplot(2, 5, i+1)\n",
    "    plt.imshow(X_train[i].reshape(28, 28), cmap='gray')\n",
    "    plt.title(class_names[y_train[i]])\n",
    "    plt.axis('off')\n",
    "plt.suptitle(\"Sample Images from Fashion MNIST\")\n",
    "plt.tight_layout()\n",
    "plt.show()\n"
   ]
  },
  {
   "cell_type": "code",
   "execution_count": null,
   "id": "ef3a1056",
   "metadata": {},
   "outputs": [],
   "source": [
    "model = Sequential([\n",
    "    Conv2D(32, (3,3), activation='relu', input_shape=(28,28,1)),\n",
    "    MaxPooling2D(2,2),\n",
    "    Conv2D(64, (3,3), activation='relu'),\n",
    "    MaxPooling2D(2,2),\n",
    "    Flatten(),\n",
    "    Dense(128, activation='relu'),\n",
    "    Dropout(0.3),\n",
    "    Dense(10, activation='softmax')\n",
    "])\n",
    "\n",
    "model.compile(optimizer='adam', loss='categorical_crossentropy', metrics=['accuracy'])\n",
    "model.summary()\n"
   ]
  },
  {
   "cell_type": "code",
   "execution_count": null,
   "id": "ce7ae0e7",
   "metadata": {},
   "outputs": [],
   "source": [
    "history = model.fit(X_train, y_train_cat, epochs=5, validation_split=0.2, batch_size=64)\n"
   ]
  },
  {
   "cell_type": "code",
   "execution_count": null,
   "id": "46adb64d",
   "metadata": {},
   "outputs": [],
   "source": [
    "plt.plot(history.history['accuracy'], label='Training Accuracy')\n",
    "plt.plot(history.history['val_accuracy'], label='Validation Accuracy')\n",
    "plt.title('Model Accuracy Over Epochs')\n",
    "plt.xlabel('Epoch')\n",
    "plt.ylabel('Accuracy')\n",
    "plt.legend()\n",
    "plt.grid()\n",
    "plt.show()\n"
   ]
  },
  {
   "cell_type": "code",
   "execution_count": null,
   "id": "3db54cc5",
   "metadata": {},
   "outputs": [],
   "source": [
    "loss, accuracy = model.evaluate(X_test, y_test_cat)\n",
    "print(\"Test Accuracy:\", accuracy)\n",
    "\n",
    "y_pred = model.predict(X_test)\n",
    "y_pred_classes = np.argmax(y_pred, axis=1)\n",
    "\n",
    "print(\"\\nConfusion Matrix:\\n\", confusion_matrix(y_test, y_pred_classes))\n",
    "print(\"\\nClassification Report:\\n\", classification_report(y_test, y_pred_classes, target_names=class_names))\n"
   ]
  },
  {
   "cell_type": "markdown",
   "id": "4ee27c53",
   "metadata": {},
   "source": [
    "### 📊 Evaluation Metrics Explained\n",
    "- **Accuracy**: Percentage of correct predictions.\n",
    "- **Confusion Matrix**: Visual comparison of actual vs predicted classes.\n",
    "- **Precision, Recall, F1-Score**: Class-specific prediction quality.\n"
   ]
  },
  {
   "cell_type": "code",
   "execution_count": null,
   "id": "0ddd0421",
   "metadata": {},
   "outputs": [],
   "source": [
    "@interact(index=widgets.IntSlider(min=0, max=9999, step=1, value=0, description=\"Test Image Index\"))\n",
    "def show_prediction(index):\n",
    "    plt.imshow(X_test[index].reshape(28, 28), cmap='gray')\n",
    "    plt.title(\"True Label: \" + class_names[y_test[index]])\n",
    "    plt.axis('off')\n",
    "    plt.show()\n",
    "    pred = model.predict(X_test[index].reshape(1,28,28,1))\n",
    "    print(\"🔍 Predicted Label:\", class_names[np.argmax(pred)])\n"
   ]
  },
  {
   "cell_type": "markdown",
   "id": "4e1960ae",
   "metadata": {},
   "source": [
    "### 🔧 Scope for Improvement\n",
    "- Use deeper networks (e.g., ResNet, VGG) or pretrained models with transfer learning.\n",
    "\n",
    "- Perform data augmentation to improve generalization.\n",
    "\n",
    "- Tune learning rate, batch size, and dropout rate.\n",
    "\n",
    "- Train longer with early stopping or callbacks.\n"
   ]
  }
 ],
 "metadata": {},
 "nbformat": 4,
 "nbformat_minor": 5
}