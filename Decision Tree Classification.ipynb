{
 "cells": [
  {
   "cell_type": "markdown",
   "id": "b7629cac",
   "metadata": {},
   "source": [
    "# 🌳 Decision Tree Classification\n",
    "### Internship Task 1 - Machine Learning (EliteTech)\n",
    "\n",
    "This notebook implements a Decision Tree Classifier using the popular **Iris dataset**. It includes:\n",
    "- Exploratory Data Analysis (EDA)\n",
    "- Decision Tree Model Training & Visualization\n",
    "- Evaluation using Accuracy, Confusion Matrix, and Classification Report\n",
    "- Interactive Prediction Tool\n",
    "- Scope for improvement"
   ]
  },
  {
   "cell_type": "code",
   "execution_count": null,
   "id": "a08b336f",
   "metadata": {},
   "outputs": [],
   "source": [
    "import pandas as pd\n",
    "import numpy as np\n",
    "import matplotlib.pyplot as plt\n",
    "import seaborn as sns\n",
    "from sklearn.datasets import load_iris\n",
    "from sklearn.model_selection import train_test_split\n",
    "from sklearn.tree import DecisionTreeClassifier, plot_tree\n",
    "from sklearn.metrics import accuracy_score, confusion_matrix, classification_report\n",
    "from ipywidgets import interact, widgets\n",
    "import warnings\n",
    "warnings.filterwarnings('ignore')\n"
   ]
  },
  {
   "cell_type": "code",
   "execution_count": null,
   "id": "3de7f18c",
   "metadata": {},
   "outputs": [],
   "source": [
    "# Load Iris dataset\n",
    "iris = load_iris()\n",
    "df = pd.DataFrame(iris.data, columns=iris.feature_names)\n",
    "df['target'] = iris.target\n",
    "df['target_name'] = df['target'].apply(lambda x: iris.target_names[x])\n",
    "df.head()\n"
   ]
  },
  {
   "cell_type": "code",
   "execution_count": null,
   "id": "6b1e3904",
   "metadata": {},
   "outputs": [],
   "source": [
    "# Statistical Summary\n",
    "df.describe()\n"
   ]
  },
  {
   "cell_type": "code",
   "execution_count": null,
   "id": "f3a6593b",
   "metadata": {},
   "outputs": [],
   "source": [
    "# Visualize class distribution\n",
    "sns.countplot(x='target_name', data=df)\n",
    "plt.title(\"Class Distribution\")\n",
    "plt.show()\n"
   ]
  },
  {
   "cell_type": "code",
   "execution_count": null,
   "id": "a439a8b0",
   "metadata": {},
   "outputs": [],
   "source": [
    "sns.heatmap(df.drop(columns='target_name').corr(), annot=True, cmap='coolwarm')\n",
    "plt.title(\"Feature Correlation Matrix\")\n",
    "plt.show()\n"
   ]
  },
  {
   "cell_type": "code",
   "execution_count": null,
   "id": "a612be85",
   "metadata": {},
   "outputs": [],
   "source": [
    "# Feature and target selection\n",
    "X = df[iris.feature_names]\n",
    "y = df['target']\n",
    "\n",
    "# Split dataset\n",
    "X_train, X_test, y_train, y_test = train_test_split(X, y, test_size=0.2, random_state=42)\n",
    "\n",
    "# Model training\n",
    "model = DecisionTreeClassifier(random_state=42)\n",
    "model.fit(X_train, y_train)\n"
   ]
  },
  {
   "cell_type": "code",
   "execution_count": null,
   "id": "b4d7c797",
   "metadata": {},
   "outputs": [],
   "source": [
    "plt.figure(figsize=(12, 8))\n",
    "plot_tree(model, filled=True, feature_names=iris.feature_names, class_names=iris.target_names)\n",
    "plt.title(\"Decision Tree Visualization\")\n",
    "plt.show()\n"
   ]
  },
  {
   "cell_type": "code",
   "execution_count": null,
   "id": "774d67d4",
   "metadata": {},
   "outputs": [],
   "source": [
    "y_pred = model.predict(X_test)\n",
    "print(\"Accuracy Score:\", accuracy_score(y_test, y_pred))\n",
    "print(\"\\nConfusion Matrix:\\n\", confusion_matrix(y_test, y_pred))\n",
    "print(\"\\nClassification Report:\\n\", classification_report(y_test, y_pred, target_names=iris.target_names))\n"
   ]
  },
  {
   "cell_type": "markdown",
   "id": "e390bc48",
   "metadata": {},
   "source": [
    "### 📊 Evaluation Metrics Explained\n",
    "- **Accuracy**: Ratio of correct predictions to total predictions.\n",
    "- **Confusion Matrix**: Table showing correct and incorrect predictions for each class.\n",
    "- **Precision, Recall, F1-Score**: Detailed per-class performance metrics.\n"
   ]
  },
  {
   "cell_type": "code",
   "execution_count": null,
   "id": "ef938839",
   "metadata": {},
   "outputs": [],
   "source": [
    "@interact(\n",
    "    sepal_length=widgets.FloatSlider(min=4.0, max=8.0, step=0.1, value=5.0),\n",
    "    sepal_width=widgets.FloatSlider(min=2.0, max=4.5, step=0.1, value=3.0),\n",
    "    petal_length=widgets.FloatSlider(min=1.0, max=7.0, step=0.1, value=4.0),\n",
    "    petal_width=widgets.FloatSlider(min=0.1, max=2.5, step=0.1, value=1.0)\n",
    ")\n",
    "def predict_species(sepal_length, sepal_width, petal_length, petal_width):\n",
    "    sample = np.array([[sepal_length, sepal_width, petal_length, petal_width]])\n",
    "    prediction = model.predict(sample)[0]\n",
    "    print(f\"🔍 Predicted Species: {iris.target_names[prediction]}\")\n"
   ]
  },
  {
   "cell_type": "markdown",
   "id": "0315b268",
   "metadata": {},
   "source": [
    "### 🔧 Scope for Improvement\n",
    "- Tune hyperparameters like `max_depth`, `min_samples_split`, etc.\n",
    "- Try other classifiers like Random Forests or Gradient Boosted Trees.\n",
    "- Use cross-validation for more robust evaluation.\n",
    "- Explore feature engineering techniques.\n"
   ]
  }
 ],
 "metadata": {},
 "nbformat": 4,
 "nbformat_minor": 5
}